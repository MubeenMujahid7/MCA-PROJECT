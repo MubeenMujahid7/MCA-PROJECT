{
 "cells": [
  {
   "cell_type": "code",
   "execution_count": 1,
   "id": "historic-session",
   "metadata": {},
   "outputs": [
    {
     "name": "stderr",
     "output_type": "stream",
     "text": [
      "c:\\python39\\lib\\site-packages\\numpy\\_distributor_init.py:30: UserWarning: loaded more than 1 DLL from .libs:\n",
      "c:\\python39\\lib\\site-packages\\numpy\\.libs\\libopenblas.GK7GX5KEQ4F6UYO3P26ULGBQYHGQO7J4.gfortran-win_amd64.dll\n",
      "c:\\python39\\lib\\site-packages\\numpy\\.libs\\libopenblas.NOIJJG62EMASZI6NYURL6JBKM4EVBGM7.gfortran-win_amd64.dll\n",
      "  warnings.warn(\"loaded more than 1 DLL from .libs:\"\n"
     ]
    }
   ],
   "source": [
    "# importing required libraries:\n",
    "import numpy as np\n",
    "import cv2\n",
    "import os\n",
    "import random\n",
    "import matplotlib.pyplot as plt\n",
    "import pickle"
   ]
  },
  {
   "cell_type": "code",
   "execution_count": 2,
   "id": "first-wheel",
   "metadata": {},
   "outputs": [],
   "source": [
    "# setting the path to our eye dataset: \n",
    "Directory = r'C:\\Users\\KRISHNA\\Drowsiness detection\\dataset_new\\train'\n",
    "# specify two categories on which we want to train our data:\n",
    "CATEGORIES = ['Closed' , 'Open']"
   ]
  },
  {
   "cell_type": "code",
   "execution_count": 3,
   "id": "level-spine",
   "metadata": {},
   "outputs": [],
   "source": [
    "#setting image size:\n",
    "img_size = 24\n",
    "data = []\n",
    "\n",
    "#iterating over each image and get the image in array form,\n",
    "for category in CATEGORIES:\n",
    "    folder = os.path.join(Directory,category)\n",
    "    label = CATEGORIES.index(category)\n",
    "    for img in os.listdir(folder):\n",
    "        img_path = os.path.join(folder, img)\n",
    "        img_arr = cv2.imread(img_path)\n",
    "        img_arr = cv2.cvtColor(img_arr, cv2.COLOR_BGR2GRAY)\n",
    "        img_arr = cv2.resize(img_arr,(img_size, img_size),1)\n",
    "        data.append([img_arr , label])"
   ]
  },
  {
   "cell_type": "code",
   "execution_count": 4,
   "id": "ready-drove",
   "metadata": {},
   "outputs": [
    {
     "data": {
      "text/plain": [
       "1234"
      ]
     },
     "execution_count": 4,
     "metadata": {},
     "output_type": "execute_result"
    }
   ],
   "source": [
    "# see the length of data:\n",
    "len(data)"
   ]
  },
  {
   "cell_type": "code",
   "execution_count": 5,
   "id": "japanese-reference",
   "metadata": {},
   "outputs": [],
   "source": [
    "# we shuffle the data to get random images of open eyes and closed eyes:\n",
    "random.shuffle(data)"
   ]
  },
  {
   "cell_type": "code",
   "execution_count": 6,
   "id": "cognitive-purple",
   "metadata": {},
   "outputs": [],
   "source": [
    "# dividing features and label for training the model: \n",
    "X = []\n",
    "Y = []\n",
    "\n",
    "for features,label in data:\n",
    "    X.append(features)\n",
    "    Y.append(label)"
   ]
  },
  {
   "cell_type": "code",
   "execution_count": 7,
   "id": "answering-steel",
   "metadata": {},
   "outputs": [],
   "source": [
    "#covert them into array:\n",
    "X = np.array(X)\n",
    "Y = np.array(Y)"
   ]
  },
  {
   "cell_type": "code",
   "execution_count": 8,
   "id": "headed-addiction",
   "metadata": {},
   "outputs": [],
   "source": [
    "# save the data into system:\n",
    "pickle.dump(X , open('X.pkl' , 'wb'))\n",
    "pickle.dump(Y , open('Y.pkl' , 'wb'))"
   ]
  },
  {
   "cell_type": "code",
   "execution_count": 9,
   "id": "pretty-constitution",
   "metadata": {},
   "outputs": [],
   "source": [
    "# normalize the image array:\n",
    "X = X/255"
   ]
  },
  {
   "cell_type": "code",
   "execution_count": 10,
   "id": "scheduled-silver",
   "metadata": {},
   "outputs": [
    {
     "data": {
      "text/plain": [
       "array([[[0.06666667, 0.0627451 , 0.10980392, ..., 0.69411765,\n",
       "         0.72941176, 0.75294118],\n",
       "        [0.05098039, 0.0745098 , 0.13333333, ..., 0.62352941,\n",
       "         0.6627451 , 0.73333333],\n",
       "        [0.05490196, 0.08235294, 0.12941176, ..., 0.49803922,\n",
       "         0.6745098 , 0.6745098 ],\n",
       "        ...,\n",
       "        [0.31764706, 0.28235294, 0.29019608, ..., 0.29019608,\n",
       "         0.30196078, 0.37647059],\n",
       "        [0.31764706, 0.28627451, 0.30196078, ..., 0.30980392,\n",
       "         0.39607843, 0.42352941],\n",
       "        [0.33333333, 0.30196078, 0.30588235, ..., 0.36470588,\n",
       "         0.44313725, 0.45882353]],\n",
       "\n",
       "       [[0.56078431, 0.57254902, 0.58039216, ..., 0.40392157,\n",
       "         0.44705882, 0.50588235],\n",
       "        [0.54509804, 0.56078431, 0.55294118, ..., 0.4       ,\n",
       "         0.41960784, 0.46666667],\n",
       "        [0.54117647, 0.53333333, 0.54509804, ..., 0.39607843,\n",
       "         0.38431373, 0.43137255],\n",
       "        ...,\n",
       "        [0.47058824, 0.50196078, 0.53333333, ..., 0.65098039,\n",
       "         0.61960784, 0.70196078],\n",
       "        [0.51764706, 0.55294118, 0.58431373, ..., 0.70980392,\n",
       "         0.64313725, 0.56862745],\n",
       "        [0.57254902, 0.58039216, 0.61176471, ..., 0.74509804,\n",
       "         0.66666667, 0.51372549]],\n",
       "\n",
       "       [[0.85882353, 0.88235294, 0.8745098 , ..., 0.7254902 ,\n",
       "         0.76862745, 0.79215686],\n",
       "        [0.87058824, 0.88235294, 0.8745098 , ..., 0.75294118,\n",
       "         0.78039216, 0.80392157],\n",
       "        [0.88235294, 0.8745098 , 0.8627451 , ..., 0.72941176,\n",
       "         0.78431373, 0.81568627],\n",
       "        ...,\n",
       "        [0.88235294, 0.88235294, 0.87843137, ..., 0.83529412,\n",
       "         0.81568627, 0.79607843],\n",
       "        [0.89019608, 0.87843137, 0.88235294, ..., 0.83921569,\n",
       "         0.81176471, 0.79215686],\n",
       "        [0.88235294, 0.89019608, 0.8745098 , ..., 0.82745098,\n",
       "         0.8       , 0.78039216]],\n",
       "\n",
       "       ...,\n",
       "\n",
       "       [[0.7254902 , 0.73333333, 0.72156863, ..., 0.51764706,\n",
       "         0.4745098 , 0.53333333],\n",
       "        [0.74117647, 0.76862745, 0.77254902, ..., 0.34901961,\n",
       "         0.30588235, 0.32941176],\n",
       "        [0.75294118, 0.78823529, 0.61960784, ..., 0.25490196,\n",
       "         0.17647059, 0.30980392],\n",
       "        ...,\n",
       "        [0.89411765, 0.88627451, 0.86666667, ..., 0.37647059,\n",
       "         0.38823529, 0.51764706],\n",
       "        [0.93333333, 0.92156863, 0.88627451, ..., 0.59607843,\n",
       "         0.61568627, 0.71764706],\n",
       "        [0.94901961, 0.94117647, 0.93333333, ..., 0.78039216,\n",
       "         0.88235294, 0.89803922]],\n",
       "\n",
       "       [[0.24705882, 0.21176471, 0.28627451, ..., 0.20784314,\n",
       "         0.2       , 0.20784314],\n",
       "        [0.28235294, 0.22745098, 0.27058824, ..., 0.14901961,\n",
       "         0.16862745, 0.19215686],\n",
       "        [0.3372549 , 0.45882353, 0.54117647, ..., 0.17647059,\n",
       "         0.2       , 0.23137255],\n",
       "        ...,\n",
       "        [0.57647059, 0.57647059, 0.57647059, ..., 0.58823529,\n",
       "         0.58431373, 0.56862745],\n",
       "        [0.57647059, 0.58431373, 0.58039216, ..., 0.57254902,\n",
       "         0.56862745, 0.58039216],\n",
       "        [0.58431373, 0.59215686, 0.58039216, ..., 0.59215686,\n",
       "         0.57647059, 0.56078431]],\n",
       "\n",
       "       [[0.61568627, 0.43921569, 0.23529412, ..., 0.07058824,\n",
       "         0.16470588, 0.28627451],\n",
       "        [0.52941176, 0.34509804, 0.22352941, ..., 0.05882353,\n",
       "         0.05882353, 0.1372549 ],\n",
       "        [0.45098039, 0.25882353, 0.17254902, ..., 0.06666667,\n",
       "         0.05490196, 0.07058824],\n",
       "        ...,\n",
       "        [0.45490196, 0.5372549 , 0.61568627, ..., 0.35294118,\n",
       "         0.38039216, 0.41960784],\n",
       "        [0.44705882, 0.54117647, 0.62745098, ..., 0.43921569,\n",
       "         0.43529412, 0.43137255],\n",
       "        [0.42352941, 0.52941176, 0.62352941, ..., 0.51764706,\n",
       "         0.49411765, 0.44313725]]])"
      ]
     },
     "execution_count": 10,
     "metadata": {},
     "output_type": "execute_result"
    }
   ],
   "source": [
    "X"
   ]
  },
  {
   "cell_type": "code",
   "execution_count": 12,
   "id": "current-pasta",
   "metadata": {},
   "outputs": [
    {
     "data": {
      "text/plain": [
       "(1234, 24, 24, 1)"
      ]
     },
     "execution_count": 12,
     "metadata": {},
     "output_type": "execute_result"
    }
   ],
   "source": [
    "# reshape the X array to (24,24,1)\n",
    "img_rows,img_cols = 24,24\n",
    "X = X.reshape(X.shape[0],img_rows,img_cols,1)\n",
    "X.shape"
   ]
  },
  {
   "cell_type": "code",
   "execution_count": 13,
   "id": "inner-greensboro",
   "metadata": {},
   "outputs": [],
   "source": [
    "# we will be using keras to create the model:\n",
    "from keras.models import Sequential\n",
    "from keras.layers import Conv2D , MaxPooling2D , Flatten , Dense"
   ]
  },
  {
   "cell_type": "code",
   "execution_count": 14,
   "id": "soviet-hamilton",
   "metadata": {},
   "outputs": [],
   "source": [
    "# creating model:\n",
    "model = Sequential()\n",
    "\n",
    "model.add(Conv2D(64 , (3,3) , activation = 'relu' , input_shape= X.shape[1:]))\n",
    "model.add(MaxPooling2D((1,1)))\n",
    "\n",
    "model.add(Conv2D(64 , (3,3) , activation = 'relu'))\n",
    "model.add(MaxPooling2D((1,1)))\n",
    "\n",
    "model.add(Conv2D(64 , (3,3) , activation = 'relu'))\n",
    "model.add(MaxPooling2D((1,1)))\n",
    "\n",
    "model.add(Flatten())\n",
    "\n",
    "model.add(Dense(128, activation = 'relu'))\n",
    "\n",
    "model.add(Dense(2, activation = 'softmax'))"
   ]
  },
  {
   "cell_type": "code",
   "execution_count": 15,
   "id": "seven-definition",
   "metadata": {},
   "outputs": [],
   "source": [
    "# compile model that we have created\n",
    "model.compile(optimizer = 'adam' , loss = 'sparse_categorical_crossentropy' , metrics = ['accuracy'])"
   ]
  },
  {
   "cell_type": "code",
   "execution_count": 17,
   "id": "nasty-measurement",
   "metadata": {},
   "outputs": [
    {
     "name": "stdout",
     "output_type": "stream",
     "text": [
      "Epoch 1/5\n",
      "35/35 [==============================] - 7s 201ms/step - loss: 0.0889 - accuracy: 0.9721 - val_loss: 0.2451 - val_accuracy: 0.9194\n",
      "Epoch 2/5\n",
      "35/35 [==============================] - 9s 245ms/step - loss: 0.0999 - accuracy: 0.9640 - val_loss: 0.1411 - val_accuracy: 0.9355\n",
      "Epoch 3/5\n",
      "35/35 [==============================] - 9s 257ms/step - loss: 0.0654 - accuracy: 0.9703 - val_loss: 0.1592 - val_accuracy: 0.9355\n",
      "Epoch 4/5\n",
      "35/35 [==============================] - 7s 212ms/step - loss: 0.0443 - accuracy: 0.9811 - val_loss: 0.1597 - val_accuracy: 0.9597\n",
      "Epoch 5/5\n",
      "35/35 [==============================] - 7s 203ms/step - loss: 0.0446 - accuracy: 0.9829 - val_loss: 0.2101 - val_accuracy: 0.9355\n"
     ]
    },
    {
     "data": {
      "text/plain": [
       "<keras.callbacks.History at 0x215735e42e0>"
      ]
     },
     "execution_count": 17,
     "metadata": {},
     "output_type": "execute_result"
    }
   ],
   "source": [
    "# fit X , Y to the model to see accuracy of model:\n",
    "model.fit(X, Y, epochs = 5 , validation_split = 0.1 , batch_size = 32)"
   ]
  },
  {
   "cell_type": "markdown",
   "id": "engaged-exclusive",
   "metadata": {},
   "source": []
  },
  {
   "cell_type": "code",
   "execution_count": 18,
   "id": "purple-worry",
   "metadata": {},
   "outputs": [],
   "source": [
    "# save model and architecture to single file\n",
    "model.save(\"custmodel.h5\")"
   ]
  }
 ],
 "metadata": {
  "kernelspec": {
   "display_name": "Python 3",
   "language": "python",
   "name": "python3"
  },
  "language_info": {
   "codemirror_mode": {
    "name": "ipython",
    "version": 3
   },
   "file_extension": ".py",
   "mimetype": "text/x-python",
   "name": "python",
   "nbconvert_exporter": "python",
   "pygments_lexer": "ipython3",
   "version": "3.9.1"
  }
 },
 "nbformat": 4,
 "nbformat_minor": 5
}
